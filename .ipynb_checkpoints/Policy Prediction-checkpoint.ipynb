{
 "cells": [
  {
   "cell_type": "markdown",
   "metadata": {},
   "source": [
    "# Policy Prediction\n",
    "\n"
   ]
  },
  {
   "cell_type": "markdown",
   "metadata": {},
   "source": [
    "<b>Library Imports</b> :"
   ]
  },
  {
   "cell_type": "code",
   "execution_count": 1,
   "metadata": {},
   "outputs": [
    {
     "data": {
      "text/plain": [
       "'\\naxis : {0 or ‘index’, 1 or ‘columns’}, default 0\\n0 or ‘index’ for row-wise, 1 or ‘columns’ for column-wise\\n\\n'"
      ]
     },
     "execution_count": 1,
     "metadata": {},
     "output_type": "execute_result"
    }
   ],
   "source": [
    "import pandas as pd\n",
    "import matplotlib as mpl\n",
    "import matplotlib.pyplot as plt\n",
    "import seaborn as sns\n",
    "\n",
    "'''\n",
    "axis : {0 or ‘index’, 1 or ‘columns’}, default 0\n",
    "0 or ‘index’ for row-wise, 1 or ‘columns’ for column-wise\n",
    "\n",
    "'''"
   ]
  },
  {
   "cell_type": "markdown",
   "metadata": {},
   "source": [
    "<b>Read Data</b> :"
   ]
  },
  {
   "cell_type": "code",
   "execution_count": 2,
   "metadata": {
    "collapsed": true
   },
   "outputs": [],
   "source": [
    "train = pd.read_csv(\"Data/train.csv\")\n",
    "train = pd.read_csv(\"Data/train_short.csv\")\n",
    "test = pd.read_csv(\"Data/test.csv\")\n",
    "test_session = pd.read_csv(\"Data/test_session_history.csv\")\n"
   ]
  },
  {
   "cell_type": "markdown",
   "metadata": {},
   "source": [
    "<b>Explore Training Data</b>:"
   ]
  },
  {
   "cell_type": "code",
   "execution_count": 3,
   "metadata": {},
   "outputs": [
    {
     "data": {
      "text/html": [
       "<div>\n",
       "<style>\n",
       "    .dataframe thead tr:only-child th {\n",
       "        text-align: right;\n",
       "    }\n",
       "\n",
       "    .dataframe thead th {\n",
       "        text-align: left;\n",
       "    }\n",
       "\n",
       "    .dataframe tbody tr th {\n",
       "        vertical-align: top;\n",
       "    }\n",
       "</style>\n",
       "<table border=\"1\" class=\"dataframe\">\n",
       "  <thead>\n",
       "    <tr style=\"text-align: right;\">\n",
       "      <th></th>\n",
       "      <th>customer_ID</th>\n",
       "      <th>shopping_pt</th>\n",
       "      <th>record_type</th>\n",
       "      <th>day</th>\n",
       "      <th>time</th>\n",
       "      <th>state</th>\n",
       "      <th>location</th>\n",
       "      <th>group_size</th>\n",
       "      <th>homeowner</th>\n",
       "      <th>car_age</th>\n",
       "      <th>car_value</th>\n",
       "      <th>risk_factor</th>\n",
       "      <th>age_oldest</th>\n",
       "      <th>age_youngest</th>\n",
       "      <th>married_couple</th>\n",
       "      <th>C_previous</th>\n",
       "      <th>duration_previous</th>\n",
       "      <th>policy</th>\n",
       "      <th>cost</th>\n",
       "    </tr>\n",
       "  </thead>\n",
       "  <tbody>\n",
       "    <tr>\n",
       "      <th>0</th>\n",
       "      <td>140813</td>\n",
       "      <td>9</td>\n",
       "      <td>1</td>\n",
       "      <td>2</td>\n",
       "      <td>13:02</td>\n",
       "      <td>PA</td>\n",
       "      <td>37390</td>\n",
       "      <td>1</td>\n",
       "      <td>0</td>\n",
       "      <td>13</td>\n",
       "      <td>e</td>\n",
       "      <td>NaN</td>\n",
       "      <td>24</td>\n",
       "      <td>24</td>\n",
       "      <td>0</td>\n",
       "      <td>1.0</td>\n",
       "      <td>5.0</td>\n",
       "      <td>1</td>\n",
       "      <td>675</td>\n",
       "    </tr>\n",
       "    <tr>\n",
       "      <th>1</th>\n",
       "      <td>140815</td>\n",
       "      <td>6</td>\n",
       "      <td>1</td>\n",
       "      <td>3</td>\n",
       "      <td>13:41</td>\n",
       "      <td>FL</td>\n",
       "      <td>33166</td>\n",
       "      <td>2</td>\n",
       "      <td>0</td>\n",
       "      <td>2</td>\n",
       "      <td>e</td>\n",
       "      <td>2.0</td>\n",
       "      <td>52</td>\n",
       "      <td>21</td>\n",
       "      <td>0</td>\n",
       "      <td>1.0</td>\n",
       "      <td>6.0</td>\n",
       "      <td>4</td>\n",
       "      <td>653</td>\n",
       "    </tr>\n",
       "    <tr>\n",
       "      <th>2</th>\n",
       "      <td>140809</td>\n",
       "      <td>7</td>\n",
       "      <td>1</td>\n",
       "      <td>4</td>\n",
       "      <td>14:45</td>\n",
       "      <td>PA</td>\n",
       "      <td>39166</td>\n",
       "      <td>1</td>\n",
       "      <td>1</td>\n",
       "      <td>20</td>\n",
       "      <td>d</td>\n",
       "      <td>NaN</td>\n",
       "      <td>51</td>\n",
       "      <td>51</td>\n",
       "      <td>0</td>\n",
       "      <td>3.0</td>\n",
       "      <td>1.0</td>\n",
       "      <td>1</td>\n",
       "      <td>620</td>\n",
       "    </tr>\n",
       "    <tr>\n",
       "      <th>3</th>\n",
       "      <td>140811</td>\n",
       "      <td>6</td>\n",
       "      <td>1</td>\n",
       "      <td>1</td>\n",
       "      <td>12:42</td>\n",
       "      <td>RI</td>\n",
       "      <td>38272</td>\n",
       "      <td>1</td>\n",
       "      <td>0</td>\n",
       "      <td>17</td>\n",
       "      <td>c</td>\n",
       "      <td>3.0</td>\n",
       "      <td>24</td>\n",
       "      <td>24</td>\n",
       "      <td>0</td>\n",
       "      <td>3.0</td>\n",
       "      <td>8.0</td>\n",
       "      <td>3</td>\n",
       "      <td>661</td>\n",
       "    </tr>\n",
       "    <tr>\n",
       "      <th>4</th>\n",
       "      <td>281617</td>\n",
       "      <td>7</td>\n",
       "      <td>1</td>\n",
       "      <td>2</td>\n",
       "      <td>9:47</td>\n",
       "      <td>IA</td>\n",
       "      <td>43903</td>\n",
       "      <td>1</td>\n",
       "      <td>0</td>\n",
       "      <td>12</td>\n",
       "      <td>e</td>\n",
       "      <td>NaN</td>\n",
       "      <td>55</td>\n",
       "      <td>55</td>\n",
       "      <td>0</td>\n",
       "      <td>4.0</td>\n",
       "      <td>4.0</td>\n",
       "      <td>3</td>\n",
       "      <td>595</td>\n",
       "    </tr>\n",
       "  </tbody>\n",
       "</table>\n",
       "</div>"
      ],
      "text/plain": [
       "   customer_ID  shopping_pt  record_type  day   time state  location  \\\n",
       "0       140813            9            1    2  13:02    PA     37390   \n",
       "1       140815            6            1    3  13:41    FL     33166   \n",
       "2       140809            7            1    4  14:45    PA     39166   \n",
       "3       140811            6            1    1  12:42    RI     38272   \n",
       "4       281617            7            1    2   9:47    IA     43903   \n",
       "\n",
       "   group_size  homeowner  car_age car_value  risk_factor  age_oldest  \\\n",
       "0           1          0       13         e          NaN          24   \n",
       "1           2          0        2         e          2.0          52   \n",
       "2           1          1       20         d          NaN          51   \n",
       "3           1          0       17         c          3.0          24   \n",
       "4           1          0       12         e          NaN          55   \n",
       "\n",
       "   age_youngest  married_couple  C_previous  duration_previous  policy  cost  \n",
       "0            24               0         1.0                5.0       1   675  \n",
       "1            21               0         1.0                6.0       4   653  \n",
       "2            51               0         3.0                1.0       1   620  \n",
       "3            24               0         3.0                8.0       3   661  \n",
       "4            55               0         4.0                4.0       3   595  "
      ]
     },
     "execution_count": 3,
     "metadata": {},
     "output_type": "execute_result"
    }
   ],
   "source": [
    "train.head()"
   ]
  },
  {
   "cell_type": "markdown",
   "metadata": {},
   "source": [
    "<b>Data Preparation and Cleaning</b> :\n",
    "\n",
    "`Step 1` : Remove the default index added to the Data Frame\n",
    "\n",
    "We can set the customer_ID as the index as this uniquely identifies the customer in the dataframe/dataset.\n",
    "To do this we can use the Pandas <b><i>set_index</i></b> function."
   ]
  },
  {
   "cell_type": "markdown",
   "metadata": {},
   "source": [
    "<u>To find missing values</u> : use the Pandas count function.\n",
    "\n",
    "The count function returns Series with number of non-NA/null observations over requested axis. Works with non-floating point data as well (detects NaN and None).\n",
    "\n",
    "In the step below we can see that there are 67663 rows in all columns except - risk_factor, C_previous and duration_previous. This is because these columns have missing/NaN values."
   ]
  },
  {
   "cell_type": "code",
   "execution_count": 4,
   "metadata": {},
   "outputs": [
    {
     "data": {
      "text/plain": [
       "customer_ID          67663\n",
       "shopping_pt          67663\n",
       "record_type          67663\n",
       "day                  67663\n",
       "time                 67663\n",
       "state                67663\n",
       "location             67663\n",
       "group_size           67663\n",
       "homeowner            67663\n",
       "car_age              67663\n",
       "car_value            67663\n",
       "risk_factor          43618\n",
       "age_oldest           67663\n",
       "age_youngest         67663\n",
       "married_couple       67663\n",
       "C_previous           67103\n",
       "duration_previous    67103\n",
       "policy               67663\n",
       "cost                 67663\n",
       "dtype: int64"
      ]
     },
     "execution_count": 4,
     "metadata": {},
     "output_type": "execute_result"
    }
   ],
   "source": [
    "train.count(axis=0, level=None, numeric_only=False)"
   ]
  },
  {
   "cell_type": "markdown",
   "metadata": {},
   "source": [
    "An alternate to the count function is the info function, which gives the concise summary of a DataFrame as below."
   ]
  },
  {
   "cell_type": "code",
   "execution_count": 5,
   "metadata": {},
   "outputs": [
    {
     "name": "stdout",
     "output_type": "stream",
     "text": [
      "<class 'pandas.core.frame.DataFrame'>\n",
      "RangeIndex: 67663 entries, 0 to 67662\n",
      "Data columns (total 19 columns):\n",
      "customer_ID          67663 non-null int64\n",
      "shopping_pt          67663 non-null int64\n",
      "record_type          67663 non-null int64\n",
      "day                  67663 non-null int64\n",
      "time                 67663 non-null object\n",
      "state                67663 non-null object\n",
      "location             67663 non-null int64\n",
      "group_size           67663 non-null int64\n",
      "homeowner            67663 non-null int64\n",
      "car_age              67663 non-null int64\n",
      "car_value            67663 non-null object\n",
      "risk_factor          43618 non-null float64\n",
      "age_oldest           67663 non-null int64\n",
      "age_youngest         67663 non-null int64\n",
      "married_couple       67663 non-null int64\n",
      "C_previous           67103 non-null float64\n",
      "duration_previous    67103 non-null float64\n",
      "policy               67663 non-null int64\n",
      "cost                 67663 non-null int64\n",
      "dtypes: float64(3), int64(13), object(3)\n",
      "memory usage: 9.8+ MB\n"
     ]
    }
   ],
   "source": [
    "train.info(verbose=True)"
   ]
  },
  {
   "cell_type": "markdown",
   "metadata": {},
   "source": [
    "To drop the NaN values, we can use the Pandas 'dropna' function\n",
    "\n",
    "The dropna function returns objects with labels on given axis omitted where alternately any or all of the data are missing"
   ]
  },
  {
   "cell_type": "code",
   "execution_count": 6,
   "metadata": {
    "collapsed": true
   },
   "outputs": [],
   "source": [
    "columns = train.columns"
   ]
  },
  {
   "cell_type": "code",
   "execution_count": null,
   "metadata": {
    "collapsed": true
   },
   "outputs": [],
   "source": []
  },
  {
   "cell_type": "code",
   "execution_count": 7,
   "metadata": {},
   "outputs": [],
   "source": [
    "train_new = train.dropna(axis=0, how='any', thresh=None, subset=None, inplace=False)"
   ]
  },
  {
   "cell_type": "code",
   "execution_count": 8,
   "metadata": {},
   "outputs": [
    {
     "data": {
      "text/plain": [
       "customer_ID          43349\n",
       "shopping_pt          43349\n",
       "record_type          43349\n",
       "day                  43349\n",
       "time                 43349\n",
       "state                43349\n",
       "location             43349\n",
       "group_size           43349\n",
       "homeowner            43349\n",
       "car_age              43349\n",
       "car_value            43349\n",
       "risk_factor          43349\n",
       "age_oldest           43349\n",
       "age_youngest         43349\n",
       "married_couple       43349\n",
       "C_previous           43349\n",
       "duration_previous    43349\n",
       "policy               43349\n",
       "cost                 43349\n",
       "dtype: int64"
      ]
     },
     "execution_count": 8,
     "metadata": {},
     "output_type": "execute_result"
    }
   ],
   "source": [
    "train_new.count(axis=0, level=None, numeric_only=False)"
   ]
  },
  {
   "cell_type": "markdown",
   "metadata": {},
   "source": [
    "This shows that all the NaN's have been deleted. The number of rows decreased from 67663 to 43349, i.e, about 35%..!!\n",
    "\n",
    "\n"
   ]
  },
  {
   "cell_type": "markdown",
   "metadata": {},
   "source": [
    "<u>Drop Duplicates</u> : Since every row has a set of features that represent the customer"
   ]
  },
  {
   "cell_type": "code",
   "execution_count": 9,
   "metadata": {
    "collapsed": true
   },
   "outputs": [],
   "source": [
    "del train['customer_ID']\n",
    "train.set_index('shopping_pt', drop=True, inplace=True)"
   ]
  },
  {
   "cell_type": "raw",
   "metadata": {},
   "source": []
  },
  {
   "cell_type": "code",
   "execution_count": null,
   "metadata": {
    "collapsed": true
   },
   "outputs": [],
   "source": []
  }
 ],
 "metadata": {
  "kernelspec": {
   "display_name": "Python 3",
   "language": "python",
   "name": "python3"
  },
  "language_info": {
   "codemirror_mode": {
    "name": "ipython",
    "version": 3
   },
   "file_extension": ".py",
   "mimetype": "text/x-python",
   "name": "python",
   "nbconvert_exporter": "python",
   "pygments_lexer": "ipython3",
   "version": "3.6.2"
  }
 },
 "nbformat": 4,
 "nbformat_minor": 2
}
