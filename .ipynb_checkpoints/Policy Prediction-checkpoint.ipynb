{
 "cells": [
  {
   "cell_type": "markdown",
   "metadata": {},
   "source": [
    "# Policy Prediction\n",
    "\n"
   ]
  },
  {
   "cell_type": "markdown",
   "metadata": {},
   "source": [
    "<b>Library Imports</b> :"
   ]
  },
  {
   "cell_type": "code",
   "execution_count": 1,
   "metadata": {},
   "outputs": [],
   "source": [
    "import pandas as pd\n",
    "import matplotlib as mpl\n",
    "import matplotlib.pyplot as plt\n",
    "import seaborn as sns\n",
    "import numpy as np\n",
    "import sklearn\n",
    "from sklearn import tree\n",
    "from sklearn.metrics import accuracy_score"
   ]
  },
  {
   "cell_type": "markdown",
   "metadata": {},
   "source": [
    "<b>Read Data</b> :"
   ]
  },
  {
   "cell_type": "code",
   "execution_count": 2,
   "metadata": {},
   "outputs": [],
   "source": [
    "train = pd.read_csv(\"Data/train.csv\")\n",
    "train = pd.read_csv(\"Data/train_short.csv\")\n",
    "test = pd.read_csv(\"Data/test.csv\")\n",
    "test_session = pd.read_csv(\"Data/test_session_history.csv\")\n",
    "answers = pd.read_csv(\"Data/test_with_labels.csv\")\n"
   ]
  },
  {
   "cell_type": "markdown",
   "metadata": {},
   "source": [
    "<b>Prepare Training Data</b>:"
   ]
  },
  {
   "cell_type": "code",
   "execution_count": 3,
   "metadata": {},
   "outputs": [
    {
     "data": {
      "text/html": [
       "<div>\n",
       "<style>\n",
       "    .dataframe thead tr:only-child th {\n",
       "        text-align: right;\n",
       "    }\n",
       "\n",
       "    .dataframe thead th {\n",
       "        text-align: left;\n",
       "    }\n",
       "\n",
       "    .dataframe tbody tr th {\n",
       "        vertical-align: top;\n",
       "    }\n",
       "</style>\n",
       "<table border=\"1\" class=\"dataframe\">\n",
       "  <thead>\n",
       "    <tr style=\"text-align: right;\">\n",
       "      <th></th>\n",
       "      <th>customer_ID</th>\n",
       "      <th>shopping_pt</th>\n",
       "      <th>record_type</th>\n",
       "      <th>day</th>\n",
       "      <th>time</th>\n",
       "      <th>state</th>\n",
       "      <th>location</th>\n",
       "      <th>group_size</th>\n",
       "      <th>homeowner</th>\n",
       "      <th>car_age</th>\n",
       "      <th>car_value</th>\n",
       "      <th>risk_factor</th>\n",
       "      <th>age_oldest</th>\n",
       "      <th>age_youngest</th>\n",
       "      <th>married_couple</th>\n",
       "      <th>C_previous</th>\n",
       "      <th>duration_previous</th>\n",
       "      <th>policy</th>\n",
       "      <th>cost</th>\n",
       "    </tr>\n",
       "  </thead>\n",
       "  <tbody>\n",
       "    <tr>\n",
       "      <th>0</th>\n",
       "      <td>140813</td>\n",
       "      <td>9</td>\n",
       "      <td>1</td>\n",
       "      <td>2</td>\n",
       "      <td>13:02</td>\n",
       "      <td>PA</td>\n",
       "      <td>37390</td>\n",
       "      <td>1</td>\n",
       "      <td>0</td>\n",
       "      <td>13</td>\n",
       "      <td>e</td>\n",
       "      <td>NaN</td>\n",
       "      <td>24</td>\n",
       "      <td>24</td>\n",
       "      <td>0</td>\n",
       "      <td>1.0</td>\n",
       "      <td>5.0</td>\n",
       "      <td>1</td>\n",
       "      <td>675</td>\n",
       "    </tr>\n",
       "    <tr>\n",
       "      <th>1</th>\n",
       "      <td>140815</td>\n",
       "      <td>6</td>\n",
       "      <td>1</td>\n",
       "      <td>3</td>\n",
       "      <td>13:41</td>\n",
       "      <td>FL</td>\n",
       "      <td>33166</td>\n",
       "      <td>2</td>\n",
       "      <td>0</td>\n",
       "      <td>2</td>\n",
       "      <td>e</td>\n",
       "      <td>2.0</td>\n",
       "      <td>52</td>\n",
       "      <td>21</td>\n",
       "      <td>0</td>\n",
       "      <td>1.0</td>\n",
       "      <td>6.0</td>\n",
       "      <td>4</td>\n",
       "      <td>653</td>\n",
       "    </tr>\n",
       "    <tr>\n",
       "      <th>2</th>\n",
       "      <td>140809</td>\n",
       "      <td>7</td>\n",
       "      <td>1</td>\n",
       "      <td>4</td>\n",
       "      <td>14:45</td>\n",
       "      <td>PA</td>\n",
       "      <td>39166</td>\n",
       "      <td>1</td>\n",
       "      <td>1</td>\n",
       "      <td>20</td>\n",
       "      <td>d</td>\n",
       "      <td>NaN</td>\n",
       "      <td>51</td>\n",
       "      <td>51</td>\n",
       "      <td>0</td>\n",
       "      <td>3.0</td>\n",
       "      <td>1.0</td>\n",
       "      <td>1</td>\n",
       "      <td>620</td>\n",
       "    </tr>\n",
       "    <tr>\n",
       "      <th>3</th>\n",
       "      <td>140811</td>\n",
       "      <td>6</td>\n",
       "      <td>1</td>\n",
       "      <td>1</td>\n",
       "      <td>12:42</td>\n",
       "      <td>RI</td>\n",
       "      <td>38272</td>\n",
       "      <td>1</td>\n",
       "      <td>0</td>\n",
       "      <td>17</td>\n",
       "      <td>c</td>\n",
       "      <td>3.0</td>\n",
       "      <td>24</td>\n",
       "      <td>24</td>\n",
       "      <td>0</td>\n",
       "      <td>3.0</td>\n",
       "      <td>8.0</td>\n",
       "      <td>3</td>\n",
       "      <td>661</td>\n",
       "    </tr>\n",
       "    <tr>\n",
       "      <th>4</th>\n",
       "      <td>281617</td>\n",
       "      <td>7</td>\n",
       "      <td>1</td>\n",
       "      <td>2</td>\n",
       "      <td>9:47</td>\n",
       "      <td>IA</td>\n",
       "      <td>43903</td>\n",
       "      <td>1</td>\n",
       "      <td>0</td>\n",
       "      <td>12</td>\n",
       "      <td>e</td>\n",
       "      <td>NaN</td>\n",
       "      <td>55</td>\n",
       "      <td>55</td>\n",
       "      <td>0</td>\n",
       "      <td>4.0</td>\n",
       "      <td>4.0</td>\n",
       "      <td>3</td>\n",
       "      <td>595</td>\n",
       "    </tr>\n",
       "  </tbody>\n",
       "</table>\n",
       "</div>"
      ],
      "text/plain": [
       "   customer_ID  shopping_pt  record_type  day   time state  location  \\\n",
       "0       140813            9            1    2  13:02    PA     37390   \n",
       "1       140815            6            1    3  13:41    FL     33166   \n",
       "2       140809            7            1    4  14:45    PA     39166   \n",
       "3       140811            6            1    1  12:42    RI     38272   \n",
       "4       281617            7            1    2   9:47    IA     43903   \n",
       "\n",
       "   group_size  homeowner  car_age car_value  risk_factor  age_oldest  \\\n",
       "0           1          0       13         e          NaN          24   \n",
       "1           2          0        2         e          2.0          52   \n",
       "2           1          1       20         d          NaN          51   \n",
       "3           1          0       17         c          3.0          24   \n",
       "4           1          0       12         e          NaN          55   \n",
       "\n",
       "   age_youngest  married_couple  C_previous  duration_previous  policy  cost  \n",
       "0            24               0         1.0                5.0       1   675  \n",
       "1            21               0         1.0                6.0       4   653  \n",
       "2            51               0         3.0                1.0       1   620  \n",
       "3            24               0         3.0                8.0       3   661  \n",
       "4            55               0         4.0                4.0       3   595  "
      ]
     },
     "execution_count": 3,
     "metadata": {},
     "output_type": "execute_result"
    }
   ],
   "source": [
    "train.head()"
   ]
  },
  {
   "cell_type": "markdown",
   "metadata": {},
   "source": [
    "<u>`Setp 1`</u> : To check for missing values\n",
    "\n",
    "We can use the Pandas <b><i>count</i></b> function.\n",
    "\n",
    "The count function returns Series with number of non-NA/null observations over requested axis. Works with non-floating point data as well (detects NaN and None).\n",
    "\n",
    "In the step below we can see that there are 67663 rows in all columns except - risk_factor, C_previous and duration_previous. This is because these columns have missing/NaN values."
   ]
  },
  {
   "cell_type": "code",
   "execution_count": 4,
   "metadata": {},
   "outputs": [
    {
     "data": {
      "text/plain": [
       "customer_ID          67663\n",
       "shopping_pt          67663\n",
       "record_type          67663\n",
       "day                  67663\n",
       "time                 67663\n",
       "state                67663\n",
       "location             67663\n",
       "group_size           67663\n",
       "homeowner            67663\n",
       "car_age              67663\n",
       "car_value            67663\n",
       "risk_factor          43618\n",
       "age_oldest           67663\n",
       "age_youngest         67663\n",
       "married_couple       67663\n",
       "C_previous           67103\n",
       "duration_previous    67103\n",
       "policy               67663\n",
       "cost                 67663\n",
       "dtype: int64"
      ]
     },
     "execution_count": 4,
     "metadata": {},
     "output_type": "execute_result"
    }
   ],
   "source": [
    "train.count(axis=0, level=None, numeric_only=False)"
   ]
  },
  {
   "cell_type": "markdown",
   "metadata": {},
   "source": [
    "An alternate to the <b><i>count</i></b> function is the <b><i>info</i></b> function, which gives the concise summary of a DataFrame as below."
   ]
  },
  {
   "cell_type": "code",
   "execution_count": 5,
   "metadata": {},
   "outputs": [
    {
     "name": "stdout",
     "output_type": "stream",
     "text": [
      "<class 'pandas.core.frame.DataFrame'>\n",
      "RangeIndex: 67663 entries, 0 to 67662\n",
      "Data columns (total 19 columns):\n",
      "customer_ID          67663 non-null int64\n",
      "shopping_pt          67663 non-null int64\n",
      "record_type          67663 non-null int64\n",
      "day                  67663 non-null int64\n",
      "time                 67663 non-null object\n",
      "state                67663 non-null object\n",
      "location             67663 non-null int64\n",
      "group_size           67663 non-null int64\n",
      "homeowner            67663 non-null int64\n",
      "car_age              67663 non-null int64\n",
      "car_value            67663 non-null object\n",
      "risk_factor          43618 non-null float64\n",
      "age_oldest           67663 non-null int64\n",
      "age_youngest         67663 non-null int64\n",
      "married_couple       67663 non-null int64\n",
      "C_previous           67103 non-null float64\n",
      "duration_previous    67103 non-null float64\n",
      "policy               67663 non-null int64\n",
      "cost                 67663 non-null int64\n",
      "dtypes: float64(3), int64(13), object(3)\n",
      "memory usage: 9.8+ MB\n"
     ]
    }
   ],
   "source": [
    "train.info(verbose=True)"
   ]
  },
  {
   "cell_type": "markdown",
   "metadata": {},
   "source": [
    "<u>`Step 2`</u> : To drop the NaN values\n",
    "\n",
    "We can use the Pandas <b><i>dropna</i></b> function\n",
    "\n",
    "The <b><i>dropna</i></b> function returns objects with labels on given axis omitted where alternately any or all of the data are missing"
   ]
  },
  {
   "cell_type": "code",
   "execution_count": 6,
   "metadata": {},
   "outputs": [],
   "source": [
    "train.dropna(axis=0, how='any', thresh=None, subset=None, inplace=True)"
   ]
  },
  {
   "cell_type": "markdown",
   "metadata": {},
   "source": [
    "To verify if the NaN values were dropped we can check the count."
   ]
  },
  {
   "cell_type": "code",
   "execution_count": 7,
   "metadata": {},
   "outputs": [
    {
     "data": {
      "text/plain": [
       "customer_ID          43349\n",
       "shopping_pt          43349\n",
       "record_type          43349\n",
       "day                  43349\n",
       "time                 43349\n",
       "state                43349\n",
       "location             43349\n",
       "group_size           43349\n",
       "homeowner            43349\n",
       "car_age              43349\n",
       "car_value            43349\n",
       "risk_factor          43349\n",
       "age_oldest           43349\n",
       "age_youngest         43349\n",
       "married_couple       43349\n",
       "C_previous           43349\n",
       "duration_previous    43349\n",
       "policy               43349\n",
       "cost                 43349\n",
       "dtype: int64"
      ]
     },
     "execution_count": 7,
     "metadata": {},
     "output_type": "execute_result"
    }
   ],
   "source": [
    "train.count(axis=0, level=None, numeric_only=False)"
   ]
  },
  {
   "cell_type": "markdown",
   "metadata": {},
   "source": [
    "This shows that all the NaN's have been deleted. The number of rows decreased from 67663 to 43349, i.e, 35% of the data had incomplete records.\n",
    "\n",
    "\n"
   ]
  },
  {
   "cell_type": "markdown",
   "metadata": {},
   "source": [
    "<u>`Step 3`</u> : Remove Duplicates\n",
    "\n",
    "Every row has a set of features that represent the customer's profile. When the same combination of features repeat, the model will get biased as it would see one/few set of features (i.e, customer profiles) more often than the others. Therefore the right approach would require the model to be trained by unique set of sample data.\n",
    "\n",
    "To do this first, the columns where the duplicates need to be looked for should be selected.3"
   ]
  },
  {
   "cell_type": "code",
   "execution_count": 8,
   "metadata": {},
   "outputs": [],
   "source": [
    "train.drop_duplicates(['location','group_size','homeowner','car_age','car_value','risk_factor','age_oldest','age_youngest','married_couple','C_previous','duration_previous','policy','cost'], inplace = True)"
   ]
  },
  {
   "cell_type": "code",
   "execution_count": 9,
   "metadata": {},
   "outputs": [
    {
     "data": {
      "text/plain": [
       "customer_ID          43326\n",
       "shopping_pt          43326\n",
       "record_type          43326\n",
       "day                  43326\n",
       "time                 43326\n",
       "state                43326\n",
       "location             43326\n",
       "group_size           43326\n",
       "homeowner            43326\n",
       "car_age              43326\n",
       "car_value            43326\n",
       "risk_factor          43326\n",
       "age_oldest           43326\n",
       "age_youngest         43326\n",
       "married_couple       43326\n",
       "C_previous           43326\n",
       "duration_previous    43326\n",
       "policy               43326\n",
       "cost                 43326\n",
       "dtype: int64"
      ]
     },
     "execution_count": 9,
     "metadata": {},
     "output_type": "execute_result"
    }
   ],
   "source": [
    "train.count(axis=0, level=None, numeric_only=False)"
   ]
  },
  {
   "cell_type": "markdown",
   "metadata": {
    "collapsed": true
   },
   "source": [
    "We can see there were 23 duplicates (43349-43326) that were deleted."
   ]
  },
  {
   "cell_type": "markdown",
   "metadata": {},
   "source": [
    "<u>Explore the samples:</u>\n",
    "To explore the samples data given, we can plot the policy numbers to see the distribution of the data."
   ]
  },
  {
   "cell_type": "code",
   "execution_count": 10,
   "metadata": {},
   "outputs": [
    {
     "data": {
      "text/plain": [
       "<seaborn.axisgrid.FacetGrid at 0x22303592a90>"
      ]
     },
     "execution_count": 10,
     "metadata": {},
     "output_type": "execute_result"
    },
    {
     "data": {
      "image/png": "[encoded data removed]",
      "text/plain": [
       "<matplotlib.figure.Figure at 0x223034c5e80>"
      ]
     },
     "metadata": {},
     "output_type": "display_data"
    }
   ],
   "source": [
    "%matplotlib inline\n",
    "g = sns.FacetGrid(train)\n",
    "g.map(plt.hist, \"policy\")"
   ]
  },
  {
   "cell_type": "code",
   "execution_count": 43,
   "metadata": {},
   "outputs": [],
   "source": [
    "train[\"policy\"] = train[\"policy\"].astype('category')"
   ]
  },
  {
   "cell_type": "code",
   "execution_count": 51,
   "metadata": {},
   "outputs": [
    {
     "data": {
      "text/plain": [
       "3    15360\n",
       "1    15072\n",
       "2    11024\n",
       "4     1870\n",
       "Name: policy, dtype: int64"
      ]
     },
     "execution_count": 51,
     "metadata": {},
     "output_type": "execute_result"
    }
   ],
   "source": [
    "train[\"policy\"].value_counts()"
   ]
  },
  {
   "cell_type": "markdown",
   "metadata": {},
   "source": [
    "We can see that among the 4 classes, policy no.4 is under represented. This could result in the model not predicting policy no.4 very well due to insuffcient samples of this type."
   ]
  },
  {
   "cell_type": "markdown",
   "metadata": {},
   "source": [
    "<b>Feature Selection:</b>\n",
    "\n",
    "The next step is to select the features that are the most relevant. One way to do this is by using Pearson Correlation Coefficient."
   ]
  },
  {
   "cell_type": "code",
   "execution_count": 11,
   "metadata": {},
   "outputs": [
    {
     "data": {
      "text/html": [
       "<div>\n",
       "<style>\n",
       "    .dataframe thead tr:only-child th {\n",
       "        text-align: right;\n",
       "    }\n",
       "\n",
       "    .dataframe thead th {\n",
       "        text-align: left;\n",
       "    }\n",
       "\n",
       "    .dataframe tbody tr th {\n",
       "        vertical-align: top;\n",
       "    }\n",
       "</style>\n",
       "<table border=\"1\" class=\"dataframe\">\n",
       "  <thead>\n",
       "    <tr style=\"text-align: right;\">\n",
       "      <th></th>\n",
       "      <th>customer_ID</th>\n",
       "      <th>shopping_pt</th>\n",
       "      <th>record_type</th>\n",
       "      <th>day</th>\n",
       "      <th>location</th>\n",
       "      <th>group_size</th>\n",
       "      <th>homeowner</th>\n",
       "      <th>car_age</th>\n",
       "      <th>risk_factor</th>\n",
       "      <th>age_oldest</th>\n",
       "      <th>age_youngest</th>\n",
       "      <th>married_couple</th>\n",
       "      <th>C_previous</th>\n",
       "      <th>duration_previous</th>\n",
       "      <th>policy</th>\n",
       "      <th>cost</th>\n",
       "    </tr>\n",
       "  </thead>\n",
       "  <tbody>\n",
       "    <tr>\n",
       "      <th>customer_ID</th>\n",
       "      <td>1.000000</td>\n",
       "      <td>0.006864</td>\n",
       "      <td>NaN</td>\n",
       "      <td>-0.000914</td>\n",
       "      <td>0.046473</td>\n",
       "      <td>0.002594</td>\n",
       "      <td>0.000141</td>\n",
       "      <td>0.002584</td>\n",
       "      <td>0.000941</td>\n",
       "      <td>0.004021</td>\n",
       "      <td>0.000257</td>\n",
       "      <td>-0.002586</td>\n",
       "      <td>-0.007771</td>\n",
       "      <td>-0.003119</td>\n",
       "      <td>-0.004714</td>\n",
       "      <td>-0.002086</td>\n",
       "    </tr>\n",
       "    <tr>\n",
       "      <th>shopping_pt</th>\n",
       "      <td>0.006864</td>\n",
       "      <td>1.000000</td>\n",
       "      <td>NaN</td>\n",
       "      <td>-0.015502</td>\n",
       "      <td>-0.002807</td>\n",
       "      <td>0.018230</td>\n",
       "      <td>-0.062381</td>\n",
       "      <td>-0.036392</td>\n",
       "      <td>0.002375</td>\n",
       "      <td>-0.020737</td>\n",
       "      <td>-0.027989</td>\n",
       "      <td>0.017506</td>\n",
       "      <td>-0.015824</td>\n",
       "      <td>-0.020769</td>\n",
       "      <td>0.048213</td>\n",
       "      <td>0.080200</td>\n",
       "    </tr>\n",
       "    <tr>\n",
       "      <th>record_type</th>\n",
       "      <td>NaN</td>\n",
       "      <td>NaN</td>\n",
       "      <td>NaN</td>\n",
       "      <td>NaN</td>\n",
       "      <td>NaN</td>\n",
       "      <td>NaN</td>\n",
       "      <td>NaN</td>\n",
       "      <td>NaN</td>\n",
       "      <td>NaN</td>\n",
       "      <td>NaN</td>\n",
       "      <td>NaN</td>\n",
       "      <td>NaN</td>\n",
       "      <td>NaN</td>\n",
       "      <td>NaN</td>\n",
       "      <td>NaN</td>\n",
       "      <td>NaN</td>\n",
       "    </tr>\n",
       "    <tr>\n",
       "      <th>day</th>\n",
       "      <td>-0.000914</td>\n",
       "      <td>-0.015502</td>\n",
       "      <td>NaN</td>\n",
       "      <td>1.000000</td>\n",
       "      <td>-0.015907</td>\n",
       "      <td>-0.003987</td>\n",
       "      <td>-0.009538</td>\n",
       "      <td>-0.003654</td>\n",
       "      <td>0.024294</td>\n",
       "      <td>-0.041551</td>\n",
       "      <td>-0.039923</td>\n",
       "      <td>-0.006606</td>\n",
       "      <td>-0.008808</td>\n",
       "      <td>-0.011739</td>\n",
       "      <td>-0.008039</td>\n",
       "      <td>0.028051</td>\n",
       "    </tr>\n",
       "    <tr>\n",
       "      <th>location</th>\n",
       "      <td>0.046473</td>\n",
       "      <td>-0.002807</td>\n",
       "      <td>NaN</td>\n",
       "      <td>-0.015907</td>\n",
       "      <td>1.000000</td>\n",
       "      <td>-0.015977</td>\n",
       "      <td>-0.008174</td>\n",
       "      <td>0.016652</td>\n",
       "      <td>0.010009</td>\n",
       "      <td>-0.001839</td>\n",
       "      <td>0.000213</td>\n",
       "      <td>-0.012065</td>\n",
       "      <td>0.015248</td>\n",
       "      <td>0.009279</td>\n",
       "      <td>-0.036807</td>\n",
       "      <td>0.009671</td>\n",
       "    </tr>\n",
       "    <tr>\n",
       "      <th>group_size</th>\n",
       "      <td>0.002594</td>\n",
       "      <td>0.018230</td>\n",
       "      <td>NaN</td>\n",
       "      <td>-0.003987</td>\n",
       "      <td>-0.015977</td>\n",
       "      <td>1.000000</td>\n",
       "      <td>0.208348</td>\n",
       "      <td>-0.031136</td>\n",
       "      <td>-0.056008</td>\n",
       "      <td>0.217985</td>\n",
       "      <td>-0.019514</td>\n",
       "      <td>0.772035</td>\n",
       "      <td>0.097779</td>\n",
       "      <td>0.068098</td>\n",
       "      <td>0.015201</td>\n",
       "      <td>-0.020393</td>\n",
       "    </tr>\n",
       "    <tr>\n",
       "      <th>homeowner</th>\n",
       "      <td>0.000141</td>\n",
       "      <td>-0.062381</td>\n",
       "      <td>NaN</td>\n",
       "      <td>-0.009538</td>\n",
       "      <td>-0.008174</td>\n",
       "      <td>0.208348</td>\n",
       "      <td>1.000000</td>\n",
       "      <td>-0.039083</td>\n",
       "      <td>-0.172572</td>\n",
       "      <td>0.427514</td>\n",
       "      <td>0.375195</td>\n",
       "      <td>0.208314</td>\n",
       "      <td>0.111779</td>\n",
       "      <td>0.190986</td>\n",
       "      <td>0.051830</td>\n",
       "      <td>-0.243591</td>\n",
       "    </tr>\n",
       "    <tr>\n",
       "      <th>car_age</th>\n",
       "      <td>0.002584</td>\n",
       "      <td>-0.036392</td>\n",
       "      <td>NaN</td>\n",
       "      <td>-0.003654</td>\n",
       "      <td>0.016652</td>\n",
       "      <td>-0.031136</td>\n",
       "      <td>-0.039083</td>\n",
       "      <td>1.000000</td>\n",
       "      <td>0.090035</td>\n",
       "      <td>0.015386</td>\n",
       "      <td>0.011250</td>\n",
       "      <td>-0.044845</td>\n",
       "      <td>-0.138974</td>\n",
       "      <td>-0.026367</td>\n",
       "      <td>-0.225854</td>\n",
       "      <td>-0.318850</td>\n",
       "    </tr>\n",
       "    <tr>\n",
       "      <th>risk_factor</th>\n",
       "      <td>0.000941</td>\n",
       "      <td>0.002375</td>\n",
       "      <td>NaN</td>\n",
       "      <td>0.024294</td>\n",
       "      <td>0.010009</td>\n",
       "      <td>-0.056008</td>\n",
       "      <td>-0.172572</td>\n",
       "      <td>0.090035</td>\n",
       "      <td>1.000000</td>\n",
       "      <td>-0.302371</td>\n",
       "      <td>-0.296739</td>\n",
       "      <td>-0.081288</td>\n",
       "      <td>-0.130171</td>\n",
       "      <td>-0.186586</td>\n",
       "      <td>0.079102</td>\n",
       "      <td>0.118675</td>\n",
       "    </tr>\n",
       "    <tr>\n",
       "      <th>age_oldest</th>\n",
       "      <td>0.004021</td>\n",
       "      <td>-0.020737</td>\n",
       "      <td>NaN</td>\n",
       "      <td>-0.041551</td>\n",
       "      <td>-0.001839</td>\n",
       "      <td>0.217985</td>\n",
       "      <td>0.427514</td>\n",
       "      <td>0.015386</td>\n",
       "      <td>-0.302371</td>\n",
       "      <td>1.000000</td>\n",
       "      <td>0.913447</td>\n",
       "      <td>0.240359</td>\n",
       "      <td>0.076877</td>\n",
       "      <td>0.287733</td>\n",
       "      <td>0.021679</td>\n",
       "      <td>-0.210452</td>\n",
       "    </tr>\n",
       "    <tr>\n",
       "      <th>age_youngest</th>\n",
       "      <td>0.000257</td>\n",
       "      <td>-0.027989</td>\n",
       "      <td>NaN</td>\n",
       "      <td>-0.039923</td>\n",
       "      <td>0.000213</td>\n",
       "      <td>-0.019514</td>\n",
       "      <td>0.375195</td>\n",
       "      <td>0.011250</td>\n",
       "      <td>-0.296739</td>\n",
       "      <td>0.913447</td>\n",
       "      <td>1.000000</td>\n",
       "      <td>0.129063</td>\n",
       "      <td>0.070326</td>\n",
       "      <td>0.265248</td>\n",
       "      <td>0.024647</td>\n",
       "      <td>-0.241781</td>\n",
       "    </tr>\n",
       "    <tr>\n",
       "      <th>married_couple</th>\n",
       "      <td>-0.002586</td>\n",
       "      <td>0.017506</td>\n",
       "      <td>NaN</td>\n",
       "      <td>-0.006606</td>\n",
       "      <td>-0.012065</td>\n",
       "      <td>0.772035</td>\n",
       "      <td>0.208314</td>\n",
       "      <td>-0.044845</td>\n",
       "      <td>-0.081288</td>\n",
       "      <td>0.240359</td>\n",
       "      <td>0.129063</td>\n",
       "      <td>1.000000</td>\n",
       "      <td>0.087860</td>\n",
       "      <td>0.059320</td>\n",
       "      <td>0.002921</td>\n",
       "      <td>-0.061908</td>\n",
       "    </tr>\n",
       "    <tr>\n",
       "      <th>C_previous</th>\n",
       "      <td>-0.007771</td>\n",
       "      <td>-0.015824</td>\n",
       "      <td>NaN</td>\n",
       "      <td>-0.008808</td>\n",
       "      <td>0.015248</td>\n",
       "      <td>0.097779</td>\n",
       "      <td>0.111779</td>\n",
       "      <td>-0.138974</td>\n",
       "      <td>-0.130171</td>\n",
       "      <td>0.076877</td>\n",
       "      <td>0.070326</td>\n",
       "      <td>0.087860</td>\n",
       "      <td>1.000000</td>\n",
       "      <td>0.091865</td>\n",
       "      <td>-0.045964</td>\n",
       "      <td>-0.050725</td>\n",
       "    </tr>\n",
       "    <tr>\n",
       "      <th>duration_previous</th>\n",
       "      <td>-0.003119</td>\n",
       "      <td>-0.020769</td>\n",
       "      <td>NaN</td>\n",
       "      <td>-0.011739</td>\n",
       "      <td>0.009279</td>\n",
       "      <td>0.068098</td>\n",
       "      <td>0.190986</td>\n",
       "      <td>-0.026367</td>\n",
       "      <td>-0.186586</td>\n",
       "      <td>0.287733</td>\n",
       "      <td>0.265248</td>\n",
       "      <td>0.059320</td>\n",
       "      <td>0.091865</td>\n",
       "      <td>1.000000</td>\n",
       "      <td>0.002737</td>\n",
       "      <td>-0.135003</td>\n",
       "    </tr>\n",
       "    <tr>\n",
       "      <th>policy</th>\n",
       "      <td>-0.004714</td>\n",
       "      <td>0.048213</td>\n",
       "      <td>NaN</td>\n",
       "      <td>-0.008039</td>\n",
       "      <td>-0.036807</td>\n",
       "      <td>0.015201</td>\n",
       "      <td>0.051830</td>\n",
       "      <td>-0.225854</td>\n",
       "      <td>0.079102</td>\n",
       "      <td>0.021679</td>\n",
       "      <td>0.024647</td>\n",
       "      <td>0.002921</td>\n",
       "      <td>-0.045964</td>\n",
       "      <td>0.002737</td>\n",
       "      <td>1.000000</td>\n",
       "      <td>0.015346</td>\n",
       "    </tr>\n",
       "    <tr>\n",
       "      <th>cost</th>\n",
       "      <td>-0.002086</td>\n",
       "      <td>0.080200</td>\n",
       "      <td>NaN</td>\n",
       "      <td>0.028051</td>\n",
       "      <td>0.009671</td>\n",
       "      <td>-0.020393</td>\n",
       "      <td>-0.243591</td>\n",
       "      <td>-0.318850</td>\n",
       "      <td>0.118675</td>\n",
       "      <td>-0.210452</td>\n",
       "      <td>-0.241781</td>\n",
       "      <td>-0.061908</td>\n",
       "      <td>-0.050725</td>\n",
       "      <td>-0.135003</td>\n",
       "      <td>0.015346</td>\n",
       "      <td>1.000000</td>\n",
       "    </tr>\n",
       "  </tbody>\n",
       "</table>\n",
       "</div>"
      ],
      "text/plain": [
       "                   customer_ID  shopping_pt  record_type       day  location  \\\n",
       "customer_ID           1.000000     0.006864          NaN -0.000914  0.046473   \n",
       "shopping_pt           0.006864     1.000000          NaN -0.015502 -0.002807   \n",
       "record_type                NaN          NaN          NaN       NaN       NaN   \n",
       "day                  -0.000914    -0.015502          NaN  1.000000 -0.015907   \n",
       "location              0.046473    -0.002807          NaN -0.015907  1.000000   \n",
       "group_size            0.002594     0.018230          NaN -0.003987 -0.015977   \n",
       "homeowner             0.000141    -0.062381          NaN -0.009538 -0.008174   \n",
       "car_age               0.002584    -0.036392          NaN -0.003654  0.016652   \n",
       "risk_factor           0.000941     0.002375          NaN  0.024294  0.010009   \n",
       "age_oldest            0.004021    -0.020737          NaN -0.041551 -0.001839   \n",
       "age_youngest          0.000257    -0.027989          NaN -0.039923  0.000213   \n",
       "married_couple       -0.002586     0.017506          NaN -0.006606 -0.012065   \n",
       "C_previous           -0.007771    -0.015824          NaN -0.008808  0.015248   \n",
       "duration_previous    -0.003119    -0.020769          NaN -0.011739  0.009279   \n",
       "policy               -0.004714     0.048213          NaN -0.008039 -0.036807   \n",
       "cost                 -0.002086     0.080200          NaN  0.028051  0.009671   \n",
       "\n",
       "                   group_size  homeowner   car_age  risk_factor  age_oldest  \\\n",
       "customer_ID          0.002594   0.000141  0.002584     0.000941    0.004021   \n",
       "shopping_pt          0.018230  -0.062381 -0.036392     0.002375   -0.020737   \n",
       "record_type               NaN        NaN       NaN          NaN         NaN   \n",
       "day                 -0.003987  -0.009538 -0.003654     0.024294   -0.041551   \n",
       "location            -0.015977  -0.008174  0.016652     0.010009   -0.001839   \n",
       "group_size           1.000000   0.208348 -0.031136    -0.056008    0.217985   \n",
       "homeowner            0.208348   1.000000 -0.039083    -0.172572    0.427514   \n",
       "car_age             -0.031136  -0.039083  1.000000     0.090035    0.015386   \n",
       "risk_factor         -0.056008  -0.172572  0.090035     1.000000   -0.302371   \n",
       "age_oldest           0.217985   0.427514  0.015386    -0.302371    1.000000   \n",
       "age_youngest        -0.019514   0.375195  0.011250    -0.296739    0.913447   \n",
       "married_couple       0.772035   0.208314 -0.044845    -0.081288    0.240359   \n",
       "C_previous           0.097779   0.111779 -0.138974    -0.130171    0.076877   \n",
       "duration_previous    0.068098   0.190986 -0.026367    -0.186586    0.287733   \n",
       "policy               0.015201   0.051830 -0.225854     0.079102    0.021679   \n",
       "cost                -0.020393  -0.243591 -0.318850     0.118675   -0.210452   \n",
       "\n",
       "                   age_youngest  married_couple  C_previous  \\\n",
       "customer_ID            0.000257       -0.002586   -0.007771   \n",
       "shopping_pt           -0.027989        0.017506   -0.015824   \n",
       "record_type                 NaN             NaN         NaN   \n",
       "day                   -0.039923       -0.006606   -0.008808   \n",
       "location               0.000213       -0.012065    0.015248   \n",
       "group_size            -0.019514        0.772035    0.097779   \n",
       "homeowner              0.375195        0.208314    0.111779   \n",
       "car_age                0.011250       -0.044845   -0.138974   \n",
       "risk_factor           -0.296739       -0.081288   -0.130171   \n",
       "age_oldest             0.913447        0.240359    0.076877   \n",
       "age_youngest           1.000000        0.129063    0.070326   \n",
       "married_couple         0.129063        1.000000    0.087860   \n",
       "C_previous             0.070326        0.087860    1.000000   \n",
       "duration_previous      0.265248        0.059320    0.091865   \n",
       "policy                 0.024647        0.002921   -0.045964   \n",
       "cost                  -0.241781       -0.061908   -0.050725   \n",
       "\n",
       "                   duration_previous    policy      cost  \n",
       "customer_ID                -0.003119 -0.004714 -0.002086  \n",
       "shopping_pt                -0.020769  0.048213  0.080200  \n",
       "record_type                      NaN       NaN       NaN  \n",
       "day                        -0.011739 -0.008039  0.028051  \n",
       "location                    0.009279 -0.036807  0.009671  \n",
       "group_size                  0.068098  0.015201 -0.020393  \n",
       "homeowner                   0.190986  0.051830 -0.243591  \n",
       "car_age                    -0.026367 -0.225854 -0.318850  \n",
       "risk_factor                -0.186586  0.079102  0.118675  \n",
       "age_oldest                  0.287733  0.021679 -0.210452  \n",
       "age_youngest                0.265248  0.024647 -0.241781  \n",
       "married_couple              0.059320  0.002921 -0.061908  \n",
       "C_previous                  0.091865 -0.045964 -0.050725  \n",
       "duration_previous           1.000000  0.002737 -0.135003  \n",
       "policy                      0.002737  1.000000  0.015346  \n",
       "cost                       -0.135003  0.015346  1.000000  "
      ]
     },
     "execution_count": 11,
     "metadata": {},
     "output_type": "execute_result"
    }
   ],
   "source": [
    "train.corr(method='pearson')"
   ]
  },
  {
   "cell_type": "markdown",
   "metadata": {},
   "source": [
    "We can see that these features : risk_factor, age_oldest, car_age, record_type, duration_previous, group_size; have the highest correlation with Policy. Therefore we will consider these 6 features to train the model."
   ]
  },
  {
   "cell_type": "code",
   "execution_count": 12,
   "metadata": {},
   "outputs": [],
   "source": [
    "train_new = train.drop(['customer_ID','shopping_pt','time','day','state','location','homeowner','age_youngest','married_couple','C_previous'], axis=1, inplace=False)"
   ]
  },
  {
   "cell_type": "code",
   "execution_count": 13,
   "metadata": {},
   "outputs": [
    {
     "name": "stdout",
     "output_type": "stream",
     "text": [
      "<class 'pandas.core.frame.DataFrame'>\n",
      "Int64Index: 43326 entries, 1 to 67662\n",
      "Data columns (total 9 columns):\n",
      "record_type          43326 non-null int64\n",
      "group_size           43326 non-null int64\n",
      "car_age              43326 non-null int64\n",
      "car_value            43326 non-null object\n",
      "risk_factor          43326 non-null float64\n",
      "age_oldest           43326 non-null int64\n",
      "duration_previous    43326 non-null float64\n",
      "policy               43326 non-null int64\n",
      "cost                 43326 non-null int64\n",
      "dtypes: float64(2), int64(6), object(1)\n",
      "memory usage: 3.3+ MB\n"
     ]
    }
   ],
   "source": [
    "train_new.info()"
   ]
  },
  {
   "cell_type": "code",
   "execution_count": 14,
   "metadata": {},
   "outputs": [],
   "source": [
    "train_new_features = train_new.drop(['policy','cost'],axis=1, inplace=False)\n",
    "train_new_labels = train_new.drop(['record_type','group_size','car_age','car_value','risk_factor','age_oldest','duration_previous','cost'],axis=1, inplace=False)"
   ]
  },
  {
   "cell_type": "code",
   "execution_count": 15,
   "metadata": {},
   "outputs": [
    {
     "data": {
      "text/html": [
       "<div>\n",
       "<style>\n",
       "    .dataframe thead tr:only-child th {\n",
       "        text-align: right;\n",
       "    }\n",
       "\n",
       "    .dataframe thead th {\n",
       "        text-align: left;\n",
       "    }\n",
       "\n",
       "    .dataframe tbody tr th {\n",
       "        vertical-align: top;\n",
       "    }\n",
       "</style>\n",
       "<table border=\"1\" class=\"dataframe\">\n",
       "  <thead>\n",
       "    <tr style=\"text-align: right;\">\n",
       "      <th></th>\n",
       "      <th>record_type</th>\n",
       "      <th>group_size</th>\n",
       "      <th>car_age</th>\n",
       "      <th>car_value</th>\n",
       "      <th>risk_factor</th>\n",
       "      <th>age_oldest</th>\n",
       "      <th>duration_previous</th>\n",
       "    </tr>\n",
       "  </thead>\n",
       "  <tbody>\n",
       "    <tr>\n",
       "      <th>1</th>\n",
       "      <td>1</td>\n",
       "      <td>2</td>\n",
       "      <td>2</td>\n",
       "      <td>e</td>\n",
       "      <td>2.0</td>\n",
       "      <td>52</td>\n",
       "      <td>6.0</td>\n",
       "    </tr>\n",
       "    <tr>\n",
       "      <th>3</th>\n",
       "      <td>1</td>\n",
       "      <td>1</td>\n",
       "      <td>17</td>\n",
       "      <td>c</td>\n",
       "      <td>3.0</td>\n",
       "      <td>24</td>\n",
       "      <td>8.0</td>\n",
       "    </tr>\n",
       "    <tr>\n",
       "      <th>7</th>\n",
       "      <td>1</td>\n",
       "      <td>1</td>\n",
       "      <td>18</td>\n",
       "      <td>e</td>\n",
       "      <td>3.0</td>\n",
       "      <td>35</td>\n",
       "      <td>3.0</td>\n",
       "    </tr>\n",
       "    <tr>\n",
       "      <th>9</th>\n",
       "      <td>1</td>\n",
       "      <td>1</td>\n",
       "      <td>9</td>\n",
       "      <td>e</td>\n",
       "      <td>1.0</td>\n",
       "      <td>64</td>\n",
       "      <td>10.0</td>\n",
       "    </tr>\n",
       "    <tr>\n",
       "      <th>11</th>\n",
       "      <td>1</td>\n",
       "      <td>1</td>\n",
       "      <td>14</td>\n",
       "      <td>d</td>\n",
       "      <td>1.0</td>\n",
       "      <td>68</td>\n",
       "      <td>3.0</td>\n",
       "    </tr>\n",
       "  </tbody>\n",
       "</table>\n",
       "</div>"
      ],
      "text/plain": [
       "    record_type  group_size  car_age car_value  risk_factor  age_oldest  \\\n",
       "1             1           2        2         e          2.0          52   \n",
       "3             1           1       17         c          3.0          24   \n",
       "7             1           1       18         e          3.0          35   \n",
       "9             1           1        9         e          1.0          64   \n",
       "11            1           1       14         d          1.0          68   \n",
       "\n",
       "    duration_previous  \n",
       "1                 6.0  \n",
       "3                 8.0  \n",
       "7                 3.0  \n",
       "9                10.0  \n",
       "11                3.0  "
      ]
     },
     "execution_count": 15,
     "metadata": {},
     "output_type": "execute_result"
    }
   ],
   "source": [
    "train_new_features.head()"
   ]
  },
  {
   "cell_type": "code",
   "execution_count": 16,
   "metadata": {},
   "outputs": [
    {
     "data": {
      "text/html": [
       "<div>\n",
       "<style>\n",
       "    .dataframe thead tr:only-child th {\n",
       "        text-align: right;\n",
       "    }\n",
       "\n",
       "    .dataframe thead th {\n",
       "        text-align: left;\n",
       "    }\n",
       "\n",
       "    .dataframe tbody tr th {\n",
       "        vertical-align: top;\n",
       "    }\n",
       "</style>\n",
       "<table border=\"1\" class=\"dataframe\">\n",
       "  <thead>\n",
       "    <tr style=\"text-align: right;\">\n",
       "      <th></th>\n",
       "      <th>policy</th>\n",
       "    </tr>\n",
       "  </thead>\n",
       "  <tbody>\n",
       "    <tr>\n",
       "      <th>1</th>\n",
       "      <td>4</td>\n",
       "    </tr>\n",
       "    <tr>\n",
       "      <th>3</th>\n",
       "      <td>3</td>\n",
       "    </tr>\n",
       "    <tr>\n",
       "      <th>7</th>\n",
       "      <td>1</td>\n",
       "    </tr>\n",
       "    <tr>\n",
       "      <th>9</th>\n",
       "      <td>2</td>\n",
       "    </tr>\n",
       "    <tr>\n",
       "      <th>11</th>\n",
       "      <td>1</td>\n",
       "    </tr>\n",
       "  </tbody>\n",
       "</table>\n",
       "</div>"
      ],
      "text/plain": [
       "    policy\n",
       "1        4\n",
       "3        3\n",
       "7        1\n",
       "9        2\n",
       "11       1"
      ]
     },
     "execution_count": 16,
     "metadata": {},
     "output_type": "execute_result"
    }
   ],
   "source": [
    "train_new_labels.head()"
   ]
  },
  {
   "cell_type": "markdown",
   "metadata": {},
   "source": [
    "All categorical data needs to be converted to int/float. One way to do this is using the <b><i>`get dummies`</i></b> method."
   ]
  },
  {
   "cell_type": "code",
   "execution_count": 17,
   "metadata": {},
   "outputs": [],
   "source": [
    "train_new_features_2 = pd.get_dummies(train_new_features, columns=['car_value'])"
   ]
  },
  {
   "cell_type": "markdown",
   "metadata": {},
   "source": [
    "<b>Training the Model</b>\n",
    "\n",
    "Method 1 : Training the imbalanced dataset with Decision Trees"
   ]
  },
  {
   "cell_type": "code",
   "execution_count": 18,
   "metadata": {},
   "outputs": [],
   "source": [
    "clf = tree.DecisionTreeClassifier(criterion=\"entropy\",random_state=100,max_depth=3)"
   ]
  },
  {
   "cell_type": "code",
   "execution_count": 19,
   "metadata": {},
   "outputs": [
    {
     "data": {
      "text/plain": [
       "DecisionTreeClassifier(class_weight=None, criterion='entropy', max_depth=3,\n",
       "            max_features=None, max_leaf_nodes=None,\n",
       "            min_impurity_decrease=0.0, min_impurity_split=None,\n",
       "            min_samples_leaf=1, min_samples_split=2,\n",
       "            min_weight_fraction_leaf=0.0, presort=False, random_state=100,\n",
       "            splitter='best')"
      ]
     },
     "execution_count": 19,
     "metadata": {},
     "output_type": "execute_result"
    }
   ],
   "source": [
    "clf.fit(train_new_features_2,train_new_labels)"
   ]
  },
  {
   "cell_type": "markdown",
   "metadata": {},
   "source": [
    "<b>Preparing the Test Dataset</b>"
   ]
  },
  {
   "cell_type": "code",
   "execution_count": 20,
   "metadata": {},
   "outputs": [],
   "source": [
    "test_features = test.drop(['customer_ID','shopping_pt','location','day','homeowner','age_youngest','married_couple','C_previous','time','state','policy','price'],axis=1, inplace=False)"
   ]
  },
  {
   "cell_type": "code",
   "execution_count": 21,
   "metadata": {},
   "outputs": [
    {
     "data": {
      "text/html": [
       "<div>\n",
       "<style>\n",
       "    .dataframe thead tr:only-child th {\n",
       "        text-align: right;\n",
       "    }\n",
       "\n",
       "    .dataframe thead th {\n",
       "        text-align: left;\n",
       "    }\n",
       "\n",
       "    .dataframe tbody tr th {\n",
       "        vertical-align: top;\n",
       "    }\n",
       "</style>\n",
       "<table border=\"1\" class=\"dataframe\">\n",
       "  <thead>\n",
       "    <tr style=\"text-align: right;\">\n",
       "      <th></th>\n",
       "      <th>record_type</th>\n",
       "      <th>group_size</th>\n",
       "      <th>car_age</th>\n",
       "      <th>car_value</th>\n",
       "      <th>risk_factor</th>\n",
       "      <th>age_oldest</th>\n",
       "      <th>duration_previous</th>\n",
       "    </tr>\n",
       "  </thead>\n",
       "  <tbody>\n",
       "    <tr>\n",
       "      <th>0</th>\n",
       "      <td>1</td>\n",
       "      <td>1</td>\n",
       "      <td>7</td>\n",
       "      <td>e</td>\n",
       "      <td>NaN</td>\n",
       "      <td>50</td>\n",
       "      <td>8.0</td>\n",
       "    </tr>\n",
       "    <tr>\n",
       "      <th>1</th>\n",
       "      <td>1</td>\n",
       "      <td>2</td>\n",
       "      <td>2</td>\n",
       "      <td>d</td>\n",
       "      <td>1.0</td>\n",
       "      <td>75</td>\n",
       "      <td>8.0</td>\n",
       "    </tr>\n",
       "    <tr>\n",
       "      <th>2</th>\n",
       "      <td>1</td>\n",
       "      <td>1</td>\n",
       "      <td>6</td>\n",
       "      <td>d</td>\n",
       "      <td>NaN</td>\n",
       "      <td>28</td>\n",
       "      <td>2.0</td>\n",
       "    </tr>\n",
       "    <tr>\n",
       "      <th>3</th>\n",
       "      <td>1</td>\n",
       "      <td>1</td>\n",
       "      <td>8</td>\n",
       "      <td>h</td>\n",
       "      <td>NaN</td>\n",
       "      <td>35</td>\n",
       "      <td>3.0</td>\n",
       "    </tr>\n",
       "    <tr>\n",
       "      <th>4</th>\n",
       "      <td>1</td>\n",
       "      <td>1</td>\n",
       "      <td>11</td>\n",
       "      <td>f</td>\n",
       "      <td>4.0</td>\n",
       "      <td>28</td>\n",
       "      <td>1.0</td>\n",
       "    </tr>\n",
       "  </tbody>\n",
       "</table>\n",
       "</div>"
      ],
      "text/plain": [
       "   record_type  group_size  car_age car_value  risk_factor  age_oldest  \\\n",
       "0            1           1        7         e          NaN          50   \n",
       "1            1           2        2         d          1.0          75   \n",
       "2            1           1        6         d          NaN          28   \n",
       "3            1           1        8         h          NaN          35   \n",
       "4            1           1       11         f          4.0          28   \n",
       "\n",
       "   duration_previous  \n",
       "0                8.0  \n",
       "1                8.0  \n",
       "2                2.0  \n",
       "3                3.0  \n",
       "4                1.0  "
      ]
     },
     "execution_count": 21,
     "metadata": {},
     "output_type": "execute_result"
    }
   ],
   "source": [
    "test_features.head()"
   ]
  },
  {
   "cell_type": "code",
   "execution_count": 22,
   "metadata": {},
   "outputs": [],
   "source": [
    "test_features_new = pd.get_dummies(test_features, columns=['car_value'])"
   ]
  },
  {
   "cell_type": "code",
   "execution_count": 23,
   "metadata": {},
   "outputs": [
    {
     "name": "stdout",
     "output_type": "stream",
     "text": [
      "<class 'pandas.core.frame.DataFrame'>\n",
      "RangeIndex: 29346 entries, 0 to 29345\n",
      "Data columns (total 15 columns):\n",
      "record_type          29346 non-null int64\n",
      "group_size           29346 non-null int64\n",
      "car_age              29346 non-null int64\n",
      "risk_factor          19045 non-null float64\n",
      "age_oldest           29346 non-null int64\n",
      "duration_previous    29070 non-null float64\n",
      "car_value_a          29346 non-null uint8\n",
      "car_value_b          29346 non-null uint8\n",
      "car_value_c          29346 non-null uint8\n",
      "car_value_d          29346 non-null uint8\n",
      "car_value_e          29346 non-null uint8\n",
      "car_value_f          29346 non-null uint8\n",
      "car_value_g          29346 non-null uint8\n",
      "car_value_h          29346 non-null uint8\n",
      "car_value_i          29346 non-null uint8\n",
      "dtypes: float64(2), int64(4), uint8(9)\n",
      "memory usage: 1.6 MB\n"
     ]
    }
   ],
   "source": [
    "test_features_new.info()"
   ]
  },
  {
   "cell_type": "code",
   "execution_count": 24,
   "metadata": {},
   "outputs": [],
   "source": [
    "test_features_new.dropna(axis=0, how='any', thresh=None, subset=None, inplace=True)"
   ]
  },
  {
   "cell_type": "code",
   "execution_count": 25,
   "metadata": {},
   "outputs": [
    {
     "name": "stdout",
     "output_type": "stream",
     "text": [
      "<class 'pandas.core.frame.DataFrame'>\n",
      "Int64Index: 18906 entries, 1 to 29345\n",
      "Data columns (total 15 columns):\n",
      "record_type          18906 non-null int64\n",
      "group_size           18906 non-null int64\n",
      "car_age              18906 non-null int64\n",
      "risk_factor          18906 non-null float64\n",
      "age_oldest           18906 non-null int64\n",
      "duration_previous    18906 non-null float64\n",
      "car_value_a          18906 non-null uint8\n",
      "car_value_b          18906 non-null uint8\n",
      "car_value_c          18906 non-null uint8\n",
      "car_value_d          18906 non-null uint8\n",
      "car_value_e          18906 non-null uint8\n",
      "car_value_f          18906 non-null uint8\n",
      "car_value_g          18906 non-null uint8\n",
      "car_value_h          18906 non-null uint8\n",
      "car_value_i          18906 non-null uint8\n",
      "dtypes: float64(2), int64(4), uint8(9)\n",
      "memory usage: 1.2 MB\n"
     ]
    }
   ],
   "source": [
    "test_features_new.info()"
   ]
  },
  {
   "cell_type": "markdown",
   "metadata": {},
   "source": [
    "<b>Preparing the dataset with True lables to calculate Accuracy</b>"
   ]
  },
  {
   "cell_type": "code",
   "execution_count": 26,
   "metadata": {},
   "outputs": [],
   "source": [
    "answers.dropna(axis=0, how='any', thresh=None, subset=None, inplace=True)"
   ]
  },
  {
   "cell_type": "code",
   "execution_count": 27,
   "metadata": {},
   "outputs": [],
   "source": [
    "test_predict = clf.predict(test_features_new)"
   ]
  },
  {
   "cell_type": "code",
   "execution_count": 28,
   "metadata": {},
   "outputs": [
    {
     "data": {
      "text/plain": [
       "array([[ 0.27695614,  0.32372646,  0.37163443,  0.02768297],\n",
       "       [ 0.35446763,  0.25682183,  0.34804708,  0.04066346],\n",
       "       [ 0.27695614,  0.32372646,  0.37163443,  0.02768297],\n",
       "       ..., \n",
       "       [ 0.35446763,  0.25682183,  0.34804708,  0.04066346],\n",
       "       [ 0.61857708,  0.13768116,  0.21805007,  0.0256917 ],\n",
       "       [ 0.61857708,  0.13768116,  0.21805007,  0.0256917 ]])"
      ]
     },
     "execution_count": 28,
     "metadata": {},
     "output_type": "execute_result"
    }
   ],
   "source": [
    "clf.predict_proba(test_features_new)"
   ]
  },
  {
   "cell_type": "code",
   "execution_count": 29,
   "metadata": {},
   "outputs": [],
   "source": [
    "answers_new = answers.values[:,17]"
   ]
  },
  {
   "cell_type": "code",
   "execution_count": 33,
   "metadata": {},
   "outputs": [],
   "source": [
    "a = sklearn.metrics.jaccard_similarity_score(answers_new, test_predict, normalize=False)"
   ]
  },
  {
   "cell_type": "code",
   "execution_count": 34,
   "metadata": {},
   "outputs": [
    {
     "data": {
      "text/plain": [
       "array([[4264,    0, 2286,    0],\n",
       "       [1883,    0, 2975,    0],\n",
       "       [2652,    0, 4015,    0],\n",
       "       [ 311,    0,  520,    0]], dtype=int64)"
      ]
     },
     "execution_count": 34,
     "metadata": {},
     "output_type": "execute_result"
    }
   ],
   "source": [
    "sklearn.metrics.confusion_matrix(answers_new,test_predict, )"
   ]
  },
  {
   "cell_type": "code",
   "execution_count": 35,
   "metadata": {},
   "outputs": [],
   "source": [
    "b=test_predict.size"
   ]
  },
  {
   "cell_type": "code",
   "execution_count": 36,
   "metadata": {},
   "outputs": [],
   "source": [
    "Accuracy = a/b"
   ]
  },
  {
   "cell_type": "code",
   "execution_count": 37,
   "metadata": {},
   "outputs": [
    {
     "data": {
      "text/plain": [
       "0.43790331111816355"
      ]
     },
     "execution_count": 37,
     "metadata": {},
     "output_type": "execute_result"
    }
   ],
   "source": [
    "Accuracy"
   ]
  },
  {
   "cell_type": "code",
   "execution_count": null,
   "metadata": {},
   "outputs": [],
   "source": []
  }
 ],
 "metadata": {
  "kernelspec": {
   "display_name": "Python 3",
   "language": "python",
   "name": "python3"
  },
  "language_info": {
   "codemirror_mode": {
    "name": "ipython",
    "version": 3
   },
   "file_extension": ".py",
   "mimetype": "text/x-python",
   "name": "python",
   "nbconvert_exporter": "python",
   "pygments_lexer": "ipython3",
   "version": "3.6.2"
  }
 },
 "nbformat": 4,
 "nbformat_minor": 2
}
